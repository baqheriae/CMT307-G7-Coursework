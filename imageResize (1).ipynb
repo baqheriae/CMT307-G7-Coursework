{
  "nbformat": 4,
  "nbformat_minor": 0,
  "metadata": {
    "colab": {
      "name": "imageResize.ipynb",
      "provenance": [],
      "collapsed_sections": []
    },
    "kernelspec": {
      "name": "python3",
      "display_name": "Python 3"
    }
  },
  "cells": [
    {
      "cell_type": "code",
      "metadata": {
        "id": "E7Tb6dwY1wie",
        "colab_type": "code",
        "outputId": "fc0af8da-a5a3-49d1-fe8c-3d51e1b6b9ec",
        "colab": {
          "base_uri": "https://localhost:8080/",
          "height": 34
        }
      },
      "source": [
        "from google.colab import drive\n",
        "drive.mount('/content/drive')"
      ],
      "execution_count": 0,
      "outputs": [
        {
          "output_type": "stream",
          "text": [
            "Drive already mounted at /content/drive; to attempt to forcibly remount, call drive.mount(\"/content/drive\", force_remount=True).\n"
          ],
          "name": "stdout"
        }
      ]
    },
    {
      "cell_type": "code",
      "metadata": {
        "id": "_pPaYMsblzpm",
        "colab_type": "code",
        "outputId": "5c6cd495-c1d0-440d-94c0-eda98ebb46af",
        "colab": {
          "base_uri": "https://localhost:8080/",
          "height": 34
        }
      },
      "source": [
        "import os\n",
        "import numpy as np\n",
        "path = \"/content/drive/My Drive/ML Data\"\n",
        "\n",
        "os.chdir(path)\n",
        "os.listdir(path)\n"
      ],
      "execution_count": 0,
      "outputs": [
        {
          "output_type": "execute_result",
          "data": {
            "text/plain": [
              "['Flickr', 'data', 'resize_images_100']"
            ]
          },
          "metadata": {
            "tags": []
          },
          "execution_count": 2
        }
      ]
    },
    {
      "cell_type": "code",
      "metadata": {
        "id": "xdmu6r2SET2j",
        "colab_type": "code",
        "outputId": "d8a1f3da-f334-48c5-99d6-bebb3b8dc9da",
        "colab": {
          "base_uri": "https://localhost:8080/",
          "height": 63
        }
      },
      "source": [
        "import tensorflow as tf\n",
        "import os\n",
        "import random"
      ],
      "execution_count": 0,
      "outputs": [
        {
          "output_type": "display_data",
          "data": {
            "text/html": [
              "<p style=\"color: red;\">\n",
              "The default version of TensorFlow in Colab will soon switch to TensorFlow 2.x.<br>\n",
              "We recommend you <a href=\"https://www.tensorflow.org/guide/migrate\" target=\"_blank\">upgrade</a> now \n",
              "or ensure your notebook will continue to use TensorFlow 1.x via the <code>%tensorflow_version 1.x</code> magic:\n",
              "<a href=\"https://colab.research.google.com/notebooks/tensorflow_version.ipynb\" target=\"_blank\">more info</a>.</p>\n"
            ],
            "text/plain": [
              "<IPython.core.display.HTML object>"
            ]
          },
          "metadata": {
            "tags": []
          }
        }
      ]
    },
    {
      "cell_type": "code",
      "metadata": {
        "id": "4x1xmIvembIw",
        "colab_type": "code",
        "outputId": "5a4525d5-27a6-4850-9106-d2f0fafedc42",
        "colab": {
          "base_uri": "https://localhost:8080/",
          "height": 283
        }
      },
      "source": [
        "from PIL import Image\n",
        "import matplotlib.pyplot as plt\n",
        "\n",
        "\n",
        "img = Image.open(\"resize_images_28/awe/awe_0000_resized.jpg\")\n",
        "print(img.mode)\n",
        "plt.figure(\"img\")\n",
        "plt.imshow(img)\n",
        "plt.show()\n"
      ],
      "execution_count": 0,
      "outputs": [
        {
          "output_type": "stream",
          "text": [
            "RGB\n"
          ],
          "name": "stdout"
        },
        {
          "output_type": "display_data",
          "data": {
            "image/png": "[encoded data removed]",
            "text/plain": [
              "<Figure size 432x288 with 1 Axes>"
            ]
          },
          "metadata": {
            "tags": []
          }
        }
      ]
    },
    {
      "cell_type": "code",
      "metadata": {
        "id": "TvKYPPxLYnkc",
        "colab_type": "code",
        "colab": {}
      },
      "source": [
        "source_file=\"./Flickr/amusement/\"       #original file address\n",
        "target_file=\"./resize_images_100/amusement/\"  #file address of resized file \n",
        " \n",
        "if not os.path.exists(target_file):  #create a file path if it is not exist\n",
        "    os.makedirs(target_file)\n",
        " \n",
        "file_list=os.listdir(source_file)   #load the original file address\n",
        "for i in range(len(file_list)):\n",
        "  with tf.Session() as sess:\n",
        "    image_raw_data=tf.gfile.FastGFile(source_file+file_list[i],\"rb\").read()#load image\n",
        "    print(\"Processing：\",file_list[i])\n",
        "    image_data=tf.image.decode_jpeg(image_raw_data)\n",
        "    resized = tf.image.resize_images(image_data, [100, 100], method=0)\n",
        "    resized = np.asarray(resized.eval(), dtype='uint8')\n",
        "    image_resized = tf.image.encode_jpeg(resized)\n",
        "    img_resized = sess.run(image_resized)\n",
        "\n",
        "  with tf.gfile.GFile(target_file+file_list[i][:-4]+\"_resized\"+\".jpg\",\"wb\") as f:\n",
        "    f.write(img_resized)"
      ],
      "execution_count": 0,
      "outputs": []
    }
  ]
}